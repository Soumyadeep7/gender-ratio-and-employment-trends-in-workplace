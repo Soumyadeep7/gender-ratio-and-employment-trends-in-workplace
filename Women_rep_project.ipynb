{
  "nbformat": 4,
  "nbformat_minor": 0,
  "metadata": {
    "colab": {
      "provenance": []
    },
    "kernelspec": {
      "name": "python3",
      "display_name": "Python 3"
    },
    "language_info": {
      "name": "python"
    }
  },
  "cells": [
    {
      "cell_type": "code",
      "execution_count": null,
      "metadata": {
        "id": "Hxy5B9Ksq1J_"
      },
      "outputs": [],
      "source": [
        "import pandas as pd\n",
        "import io\n",
        "import matplotlib.pyplot as plt\n",
        "import seaborn as sns\n"
      ]
    },
    {
      "cell_type": "code",
      "source": [
        "import numpy as np"
      ],
      "metadata": {
        "id": "6jgRmVQnto3U"
      },
      "execution_count": null,
      "outputs": []
    },
    {
      "cell_type": "code",
      "source": [
        "df= pd.read_csv('data2.csv')"
      ],
      "metadata": {
        "id": "lsHSDBQRtrdx"
      },
      "execution_count": null,
      "outputs": []
    },
    {
      "cell_type": "code",
      "source": [
        "print(df.head())"
      ],
      "metadata": {
        "colab": {
          "base_uri": "https://localhost:8080/"
        },
        "id": "eOuce7pSu-sS",
        "outputId": "249738d5-4f7c-4dc5-8fa8-b52d6059133e"
      },
      "execution_count": null,
      "outputs": [
        {
          "output_type": "stream",
          "name": "stdout",
          "text": [
            "    FIRST_NAME LAST_NAME            Combo Name             DEPARTMENT  \\\n",
            "0    CATHERINE     ABALO      ABALO, CATHERINE  Kane Regional Centers   \n",
            "1      KEVIN J    ABBOTT       ABBOTT, KEVIN J   Emergency Management   \n",
            "2        JOY M    ABBOTT         ABBOTT, JOY M  Kane Regional Centers   \n",
            "3  ELIZABETH S   ABRAHAM  ABRAHAM, ELIZABETH S                  Parks   \n",
            "4      JASMINE     ABRAM        ABRAM, JASMINE   Emergency Management   \n",
            "\n",
            "                     JOB_TITLE  ELECTED_OFFICIAL DATE_STARTED SEX  \\\n",
            "0            NURSING ASSISTANT                 0     4/8/2010   F   \n",
            "1  FIRE INSTRUCTOR - PART TIME                 0    6/11/2018   M   \n",
            "2                         COOK                 0    2/14/1999   F   \n",
            "3                SEASONAL AIDE                 0    5/26/2022   F   \n",
            "4    TELECOMMUNICATION OFFICER                 0    5/23/2022   F   \n",
            "\n",
            "                        ETHNICITY ORIG_START DATE_TERM  PAY_STATUS  \\\n",
            "0                           Black   7/6/2009       NaN      Active   \n",
            "1  White (Not of Hispanic Origin)  6/11/2018       NaN      Active   \n",
            "2  White (Not of Hispanic Origin)   2/2/1998       NaN      Active   \n",
            "3  White (Not of Hispanic Origin)  5/26/2022  9/5/2022  Terminated   \n",
            "4                           Black  5/31/2016       NaN      Active   \n",
            "\n",
            "   ANNUAL_SALARY   REGULAR_PAY   OVERTIME_PAY   INCENTIVE_PAY    GROSS_PAY   \\\n",
            "0      41,581.07     40,740.50      23,416.98          125.00    64,282.48    \n",
            "1      30,576.00        378.00            -               -         378.00    \n",
            "2      40,761.76     44,015.85       1,923.77          225.00    46,164.62    \n",
            "3      39,936.00      6,488.00            -            100.00     6,588.00    \n",
            "4      52,240.03     25,637.96      15,994.95          125.00    41,757.91    \n",
            "\n",
            "  Unnamed: 17  \n",
            "0         NaN  \n",
            "1         NaN  \n",
            "2         NaN  \n",
            "3         NaN  \n",
            "4         NaN  \n"
          ]
        }
      ]
    },
    {
      "cell_type": "code",
      "source": [
        "gender_counts = df['SEX'].value_counts()"
      ],
      "metadata": {
        "id": "sWA9uQKDxx0R"
      },
      "execution_count": null,
      "outputs": []
    },
    {
      "cell_type": "code",
      "source": [
        "num_males = gender_counts['M']\n",
        "num_females = gender_counts['F']"
      ],
      "metadata": {
        "id": "MQRTW-ClzVa5"
      },
      "execution_count": null,
      "outputs": []
    },
    {
      "cell_type": "code",
      "source": [
        "print(f\"Number of males: {num_males}\")\n",
        "print(f\"Number of females: {num_females}\")\n"
      ],
      "metadata": {
        "colab": {
          "base_uri": "https://localhost:8080/"
        },
        "id": "X1zLGIKRzcrm",
        "outputId": "792ea4c9-bf9c-46c5-faa2-e59d541898a6"
      },
      "execution_count": null,
      "outputs": [
        {
          "output_type": "stream",
          "name": "stdout",
          "text": [
            "Number of males: 3187\n",
            "Number of females: 3093\n"
          ]
        }
      ]
    },
    {
      "cell_type": "code",
      "source": [
        "print(\"Ratio\", num_males/num_females)"
      ],
      "metadata": {
        "colab": {
          "base_uri": "https://localhost:8080/"
        },
        "id": "KS8bjGRi7hKb",
        "outputId": "32044ab9-3228-470b-cd3c-6325b70721fd"
      },
      "execution_count": null,
      "outputs": [
        {
          "output_type": "stream",
          "name": "stdout",
          "text": [
            "Ratio 1.0303912059489169\n"
          ]
        }
      ]
    },
    {
      "cell_type": "code",
      "source": [
        "print(\"Column names in DataFrame:\", df.columns)"
      ],
      "metadata": {
        "colab": {
          "base_uri": "https://localhost:8080/"
        },
        "id": "Xo4vYtJQ-aNd",
        "outputId": "4ce33cca-67a9-4822-b58c-9b023a171aa7"
      },
      "execution_count": null,
      "outputs": [
        {
          "output_type": "stream",
          "name": "stdout",
          "text": [
            "Column names in DataFrame: Index(['FIRST_NAME', 'LAST_NAME', 'Combo Name', 'DEPARTMENT', 'JOB_TITLE',\n",
            "       'ELECTED_OFFICIAL', 'DATE_STARTED', 'SEX', 'ETHNICITY', 'ORIG_START',\n",
            "       'DATE_TERM', 'PAY_STATUS', ' ANNUAL_SALARY ', ' REGULAR_PAY ',\n",
            "       ' OVERTIME_PAY ', ' INCENTIVE_PAY ', ' GROSS_PAY ', 'Unnamed: 17'],\n",
            "      dtype='object')\n"
          ]
        }
      ]
    },
    {
      "cell_type": "code",
      "source": [
        "df.columns = df.columns.str.strip()"
      ],
      "metadata": {
        "id": "lWXxOf8d-dtT"
      },
      "execution_count": null,
      "outputs": []
    },
    {
      "cell_type": "code",
      "source": [
        "df['ANNUAL_SALARY'] = pd.to_numeric(df['ANNUAL_SALARY'].str.replace(',', ''), errors='coerce')"
      ],
      "metadata": {
        "id": "Pd16fykY-jXd"
      },
      "execution_count": null,
      "outputs": []
    },
    {
      "cell_type": "code",
      "source": [
        "average_salary = df['ANNUAL_SALARY'].mean()"
      ],
      "metadata": {
        "id": "NGSUBXtn-o2W"
      },
      "execution_count": null,
      "outputs": []
    },
    {
      "cell_type": "code",
      "source": [
        "alary:.2f}\")print(f\"Average Annual Salary: ${average_s"
      ],
      "metadata": {
        "colab": {
          "base_uri": "https://localhost:8080/"
        },
        "id": "b5HOjfpZ-sM_",
        "outputId": "0c6fafd2-355b-4b98-e344-dc7a3c4b6d74"
      },
      "execution_count": null,
      "outputs": [
        {
          "output_type": "stream",
          "name": "stdout",
          "text": [
            "Average Annual Salary: $55947.47\n"
          ]
        }
      ]
    },
    {
      "cell_type": "code",
      "source": [
        "count_below_50000 = df[df['ANNUAL_SALARY'] < 50000].shape[0]"
      ],
      "metadata": {
        "id": "wyYujcgj-5NY"
      },
      "execution_count": null,
      "outputs": []
    },
    {
      "cell_type": "code",
      "source": [
        "print(f\"Number of employees with annual salary less than $50,000: {count_below_50000}\")"
      ],
      "metadata": {
        "colab": {
          "base_uri": "https://localhost:8080/"
        },
        "id": "W3RT7N_k-81x",
        "outputId": "c9e3864d-d89a-4bc4-e2ae-04964e81635a"
      },
      "execution_count": null,
      "outputs": [
        {
          "output_type": "stream",
          "name": "stdout",
          "text": [
            "Number of employees with annual salary less than $50,000: 3033\n"
          ]
        }
      ]
    },
    {
      "cell_type": "code",
      "source": [
        "females_df = df[df['SEX'] == 'F']"
      ],
      "metadata": {
        "id": "ZUBFrl6r_hKV"
      },
      "execution_count": null,
      "outputs": []
    },
    {
      "cell_type": "code",
      "source": [
        "count_females_below_avg_salary = females_df[females_df['ANNUAL_SALARY'] < average_salary].shape[0]"
      ],
      "metadata": {
        "id": "oEXLiBIc_voB"
      },
      "execution_count": null,
      "outputs": []
    },
    {
      "cell_type": "code",
      "source": [
        "print(f\"Number of female employees earning less than the average annual salary: {count_females_below_avg_salary}\")"
      ],
      "metadata": {
        "colab": {
          "base_uri": "https://localhost:8080/"
        },
        "id": "XCvF8B-x_0kN",
        "outputId": "fa19c820-631c-4257-d4dc-76300a969a35"
      },
      "execution_count": null,
      "outputs": [
        {
          "output_type": "stream",
          "name": "stdout",
          "text": [
            "Number of female employees earning less than the average annual salary: 2147\n"
          ]
        }
      ]
    },
    {
      "cell_type": "code",
      "source": [
        "r1=count_females_below_avg_salary /num_females\n",
        "print(r1)\n"
      ],
      "metadata": {
        "id": "Z7xWAvtT__8e",
        "colab": {
          "base_uri": "https://localhost:8080/"
        },
        "outputId": "d73d75a7-18a6-4a44-c718-ec90446e1bd4"
      },
      "execution_count": null,
      "outputs": [
        {
          "output_type": "stream",
          "name": "stdout",
          "text": [
            "0.6941480763013256\n"
          ]
        }
      ]
    },
    {
      "cell_type": "code",
      "source": [
        "males_df = df[df['SEX'] == 'M']"
      ],
      "metadata": {
        "id": "hPrMKf3dABsL"
      },
      "execution_count": null,
      "outputs": []
    },
    {
      "cell_type": "code",
      "source": [
        "count_males_below_avg_salary = males_df[males_df['ANNUAL_SALARY'] < average_salary].shape[0]"
      ],
      "metadata": {
        "id": "nFXh-nyzAEws"
      },
      "execution_count": null,
      "outputs": []
    },
    {
      "cell_type": "code",
      "source": [
        "print(f\"Number of male employees earning less than the average annual salary: {count_males_below_avg_salary}\")"
      ],
      "metadata": {
        "colab": {
          "base_uri": "https://localhost:8080/"
        },
        "id": "xaBzjH2iAXKI",
        "outputId": "f684bfcf-6737-43af-decb-c046fe5d5cb3"
      },
      "execution_count": null,
      "outputs": [
        {
          "output_type": "stream",
          "name": "stdout",
          "text": [
            "Number of male employees earning less than the average annual salary: 1744\n"
          ]
        }
      ]
    },
    {
      "cell_type": "code",
      "source": [
        "r2=count_males_below_avg_salary /num_males\n",
        "print(r2)\n"
      ],
      "metadata": {
        "colab": {
          "base_uri": "https://localhost:8080/"
        },
        "id": "1M_VOBfgAitq",
        "outputId": "4193f67f-a582-46a0-9e33-60d3e5f15c61"
      },
      "execution_count": null,
      "outputs": [
        {
          "output_type": "stream",
          "name": "stdout",
          "text": [
            "0.5472230938186382\n"
          ]
        }
      ]
    },
    {
      "cell_type": "code",
      "source": [
        "k=r2/r1\n",
        "print(k)"
      ],
      "metadata": {
        "colab": {
          "base_uri": "https://localhost:8080/"
        },
        "id": "-_d_Z_NygiKc",
        "outputId": "09dce869-9739-40bf-d95a-fc96492dc029"
      },
      "execution_count": null,
      "outputs": [
        {
          "output_type": "stream",
          "name": "stdout",
          "text": [
            "0.7883376940759422\n"
          ]
        }
      ]
    },
    {
      "cell_type": "code",
      "source": [
        "print(\"No. of females earning above annual salary\", 3093-count_females_below_avg_salary)"
      ],
      "metadata": {
        "colab": {
          "base_uri": "https://localhost:8080/"
        },
        "id": "wyEN-EJHCw7j",
        "outputId": "bb151d18-a5e7-45ca-c019-09a9dc09127f"
      },
      "execution_count": null,
      "outputs": [
        {
          "output_type": "stream",
          "name": "stdout",
          "text": [
            "No. of females earning above annual salary 946\n"
          ]
        }
      ]
    },
    {
      "cell_type": "code",
      "source": [
        "print(\"No. of males earning above annual salary\", 3187-count_males_below_avg_salary)"
      ],
      "metadata": {
        "colab": {
          "base_uri": "https://localhost:8080/"
        },
        "id": "evxObLsuGacG",
        "outputId": "985d0c87-55d1-4392-ea7b-54964090304a"
      },
      "execution_count": null,
      "outputs": [
        {
          "output_type": "stream",
          "name": "stdout",
          "text": [
            "No. of males earning above annual salary 1443\n"
          ]
        }
      ]
    },
    {
      "cell_type": "code",
      "source": [
        "print(\"Ratio of males to females earning above annual salary\", (3187-count_males_below_avg_salary)/(3093-count_females_below_avg_salary) )"
      ],
      "metadata": {
        "colab": {
          "base_uri": "https://localhost:8080/"
        },
        "id": "8MwAh3aIHA_f",
        "outputId": "5baecdbb-c493-4051-8237-2d19df71f075"
      },
      "execution_count": null,
      "outputs": [
        {
          "output_type": "stream",
          "name": "stdout",
          "text": [
            "Ratio of males to females earning above annual salary 1.525369978858351\n"
          ]
        }
      ]
    },
    {
      "cell_type": "code",
      "source": [
        "r3=1-r1\n",
        "r4=1-r2\n",
        "j=r4/r3\n",
        "print(j)\n",
        "#calculating how many males are earning more than average salary as campared to per female"
      ],
      "metadata": {
        "colab": {
          "base_uri": "https://localhost:8080/"
        },
        "id": "As2e1Y2JhOQy",
        "outputId": "52ab0670-d207-423e-a4b1-69281af307d8"
      },
      "execution_count": null,
      "outputs": [
        {
          "output_type": "stream",
          "name": "stdout",
          "text": [
            "1.4803794617536492\n"
          ]
        }
      ]
    },
    {
      "cell_type": "code",
      "source": [
        "femaleabove= 3093-count_females_below_avg_salary"
      ],
      "metadata": {
        "id": "Zrrao8cfHvLk"
      },
      "execution_count": null,
      "outputs": []
    },
    {
      "cell_type": "code",
      "source": [
        "maleabove=3187-count_males_below_avg_salary"
      ],
      "metadata": {
        "id": "Uqa0lpDtH4Fc"
      },
      "execution_count": null,
      "outputs": []
    },
    {
      "cell_type": "code",
      "source": [
        "df.columns = df.columns.str.strip()"
      ],
      "metadata": {
        "id": "ROup5GqdIy68"
      },
      "execution_count": null,
      "outputs": []
    },
    {
      "cell_type": "code",
      "source": [
        "df['ANNUAL_SALARY'] = df['ANNUAL_SALARY'].astype(str)"
      ],
      "metadata": {
        "id": "amA88x2hI20a"
      },
      "execution_count": null,
      "outputs": []
    },
    {
      "cell_type": "code",
      "source": [
        "df['ANNUAL_SALARY'] = pd.to_numeric(df['ANNUAL_SALARY'].str.replace(',', ''), errors='coerce')"
      ],
      "metadata": {
        "id": "gytACTRKJDnm"
      },
      "execution_count": null,
      "outputs": []
    },
    {
      "cell_type": "code",
      "source": [
        "average_salary_by_gender = df.groupby('SEX')['ANNUAL_SALARY'].mean().reset_index()"
      ],
      "metadata": {
        "id": "f1_mQ_ziJHcW"
      },
      "execution_count": null,
      "outputs": []
    },
    {
      "cell_type": "code",
      "source": [
        "plt.figure(figsize=(8, 6))\n",
        "sns.barplot(x='SEX', y='ANNUAL_SALARY', data=average_salary_by_gender, palette='coolwarm')"
      ],
      "metadata": {
        "colab": {
          "base_uri": "https://localhost:8080/",
          "height": 666
        },
        "id": "cDbpMyoLJMDd",
        "outputId": "9d679549-1fed-4be4-ff76-cacdb4118bd4"
      },
      "execution_count": null,
      "outputs": [
        {
          "output_type": "stream",
          "name": "stderr",
          "text": [
            "<ipython-input-38-6dc4fab83021>:2: FutureWarning: \n",
            "\n",
            "Passing `palette` without assigning `hue` is deprecated and will be removed in v0.14.0. Assign the `x` variable to `hue` and set `legend=False` for the same effect.\n",
            "\n",
            "  sns.barplot(x='SEX', y='ANNUAL_SALARY', data=average_salary_by_gender, palette='coolwarm')\n"
          ]
        },
        {
          "output_type": "execute_result",
          "data": {
            "text/plain": [
              "<Axes: xlabel='SEX', ylabel='ANNUAL_SALARY'>"
            ]
          },
          "metadata": {},
          "execution_count": 38
        },
        {
          "output_type": "display_data",
          "data": {
            "text/plain": [
              "<Figure size 800x600 with 1 Axes>"
            ],
            "image/png": "[encoded data removed]"
          },
          "metadata": {}
        }
      ]
    },
    {
      "cell_type": "code",
      "source": [
        "plt.title('Average Annual Salary by Gender')\n",
        "plt.xlabel('Gender')\n",
        "plt.ylabel('Average Annual Salary ($)')\n",
        "plt.xticks(rotation=0)\n",
        "plt.grid(axis='y', linestyle='--', alpha=0.7)\n",
        "plt.show()"
      ],
      "metadata": {
        "colab": {
          "base_uri": "https://localhost:8080/",
          "height": 472
        },
        "id": "hvQAMTbnKDSX",
        "outputId": "36586f47-ac5a-4d6f-e393-cbff13945893"
      },
      "execution_count": null,
      "outputs": [
        {
          "output_type": "display_data",
          "data": {
            "text/plain": [
              "<Figure size 640x480 with 1 Axes>"
            ],
            "image/png": "[encoded data removed]"
          },
          "metadata": {}
        }
      ]
    },
    {
      "cell_type": "code",
      "source": [
        "average_salary_females = females_df['ANNUAL_SALARY'].mean()\n",
        "print(f\"Average Salary for Females: ${average_salary_females:,.2f}\")"
      ],
      "metadata": {
        "colab": {
          "base_uri": "https://localhost:8080/"
        },
        "id": "zqqGg27zKmZQ",
        "outputId": "99c8e4c4-8490-4fd0-999a-656b30428e09"
      },
      "execution_count": null,
      "outputs": [
        {
          "output_type": "stream",
          "name": "stdout",
          "text": [
            "Average Salary for Females: $51,903.54\n"
          ]
        }
      ]
    },
    {
      "cell_type": "code",
      "source": [
        "average_salary_males = males_df['ANNUAL_SALARY'].mean()\n",
        "\n",
        "# Print average salary for males\n",
        "print(f\"Average Salary for Males: ${average_salary_males:,.2f}\")"
      ],
      "metadata": {
        "colab": {
          "base_uri": "https://localhost:8080/"
        },
        "id": "agN5bEwcLskL",
        "outputId": "615bba49-c3e0-4544-ec68-9b716b4c613f"
      },
      "execution_count": null,
      "outputs": [
        {
          "output_type": "stream",
          "name": "stdout",
          "text": [
            "Average Salary for Males: $59,872.11\n"
          ]
        }
      ]
    },
    {
      "cell_type": "code",
      "source": [
        "df.columns = df.columns.str.strip()\n",
        "\n",
        "# Ensure 'ANNUAL_SALARY' column is treated as string\n",
        "df['ANNUAL_SALARY'] = df['ANNUAL_SALARY'].astype(str)\n",
        "\n",
        "# Replace commas and convert ANNUAL_SALARY to numeric, coercing errors to NaN\n",
        "df['ANNUAL_SALARY'] = pd.to_numeric(df['ANNUAL_SALARY'].str.replace(',', ''), errors='coerce')\n",
        "\n",
        "# Calculate the average annual salary\n",
        "average_salary = df['ANNUAL_SALARY'].mean()\n",
        "\n",
        "# Filter the DataFrame for individuals earning above the average salary\n",
        "above_average_salary_df = df[df['ANNUAL_SALARY'] > average_salary]\n",
        "\n",
        "# Count the number of males and females earning above the average salary\n",
        "gender_counts = above_average_salary_df['SEX'].value_counts().reset_index()\n",
        "gender_counts.columns = ['SEX', 'Count']\n",
        "\n",
        "# Create a bar plot to visualize the number of males and females earning above the average salary\n",
        "plt.figure(figsize=(8, 6))\n",
        "sns.barplot(x='SEX', y='Count', data=gender_counts, palette='coolwarm')\n",
        "plt.title('Number of Males and Females Earning Above Average Annual Salary')\n",
        "plt.xlabel('Gender')\n",
        "plt.ylabel('Count')\n",
        "plt.xticks(rotation=0)\n",
        "plt.grid(axis='y', linestyle='--', alpha=0.7)\n",
        "plt.show()\n",
        "\n",
        "# Print average salary and counts\n",
        "print(f\"Average Annual Salary: ${average_salary:,.2f}\")\n",
        "print(gender_counts)"
      ],
      "metadata": {
        "colab": {
          "base_uri": "https://localhost:8080/",
          "height": 740
        },
        "id": "-bMsgm95Mtni",
        "outputId": "c2edca5b-9ea7-4413-b229-cee7aa346175"
      },
      "execution_count": null,
      "outputs": [
        {
          "output_type": "stream",
          "name": "stderr",
          "text": [
            "<ipython-input-42-f117af7868ff>:21: FutureWarning: \n",
            "\n",
            "Passing `palette` without assigning `hue` is deprecated and will be removed in v0.14.0. Assign the `x` variable to `hue` and set `legend=False` for the same effect.\n",
            "\n",
            "  sns.barplot(x='SEX', y='Count', data=gender_counts, palette='coolwarm')\n"
          ]
        },
        {
          "output_type": "display_data",
          "data": {
            "text/plain": [
              "<Figure size 800x600 with 1 Axes>"
            ],
            "image/png": "[encoded data removed]"
          },
          "metadata": {}
        },
        {
          "output_type": "stream",
          "name": "stdout",
          "text": [
            "Average Annual Salary: $55,947.47\n",
            "  SEX  Count\n",
            "0   M   1443\n",
            "1   F    946\n"
          ]
        }
      ]
    },
    {
      "cell_type": "code",
      "source": [
        "df.columns = df.columns.str.strip()\n",
        "\n",
        "# Ensure 'ANNUAL_SALARY' column is treated as string\n",
        "df['ANNUAL_SALARY'] = df['ANNUAL_SALARY'].astype(str)\n",
        "\n",
        "# Replace commas and convert ANNUAL_SALARY to numeric, coercing errors to NaN\n",
        "df['ANNUAL_SALARY'] = pd.to_numeric(df['ANNUAL_SALARY'].str.replace(',', ''), errors='coerce')\n",
        "\n",
        "# Calculate the average annual salary\n",
        "average_salary = df['ANNUAL_SALARY'].mean()\n",
        "\n",
        "# Filter the DataFrame for individuals earning below the average salary\n",
        "below_average_salary_df = df[df['ANNUAL_SALARY'] < average_salary]\n",
        "\n",
        "# Count the number of males and females earning below the average salary\n",
        "gender_counts_below = below_average_salary_df['SEX'].value_counts().reset_index()\n",
        "gender_counts_below.columns = ['SEX', 'Count']\n",
        "\n",
        "# Create a bar plot to visualize the number of males and females earning below the average salary\n",
        "plt.figure(figsize=(8, 6))\n",
        "sns.barplot(x='SEX', y='Count', data=gender_counts_below, palette='coolwarm')\n",
        "plt.title('Number of Males and Females Earning Below Average Annual Salary')\n",
        "plt.xlabel('Gender')\n",
        "plt.ylabel('Count')\n",
        "plt.xticks(rotation=0)\n",
        "plt.grid(axis='y', linestyle='--', alpha=0.7)\n",
        "plt.show()\n",
        "\n",
        "# Print average salary and counts\n",
        "print(f\"Average Annual Salary: ${average_salary:,.2f}\")\n",
        "print(gender_counts_below)"
      ],
      "metadata": {
        "id": "W2KNdXD9M67g",
        "outputId": "80894177-83eb-4e35-dcc1-11988c68b81c",
        "colab": {
          "base_uri": "https://localhost:8080/",
          "height": 740
        }
      },
      "execution_count": null,
      "outputs": [
        {
          "output_type": "stream",
          "name": "stderr",
          "text": [
            "<ipython-input-43-59ffcd7775d3>:21: FutureWarning: \n",
            "\n",
            "Passing `palette` without assigning `hue` is deprecated and will be removed in v0.14.0. Assign the `x` variable to `hue` and set `legend=False` for the same effect.\n",
            "\n",
            "  sns.barplot(x='SEX', y='Count', data=gender_counts_below, palette='coolwarm')\n"
          ]
        },
        {
          "output_type": "display_data",
          "data": {
            "text/plain": [
              "<Figure size 800x600 with 1 Axes>"
            ],
            "image/png": "[encoded data removed]"
          },
          "metadata": {}
        },
        {
          "output_type": "stream",
          "name": "stdout",
          "text": [
            "Average Annual Salary: $55,947.47\n",
            "  SEX  Count\n",
            "0   F   2147\n",
            "1   M   1744\n"
          ]
        }
      ]
    },
    {
      "cell_type": "code",
      "source": [
        "# Count the number of each gender\n",
        "gender_counts = df['SEX'].value_counts()\n",
        "plt.figure(figsize=(8, 8))\n",
        "plt.pie(gender_counts, labels=gender_counts.index, autopct='%1.1f%%', startangle=140, colors=['skyblue', 'salmon'])\n",
        "plt.title('Distribution of Gender')\n",
        "plt.show()\n",
        "\n"
      ],
      "metadata": {
        "colab": {
          "base_uri": "https://localhost:8080/",
          "height": 675
        },
        "id": "ihj4DWHSiCxX",
        "outputId": "94e28c94-9417-4060-998a-1d16789799e7"
      },
      "execution_count": null,
      "outputs": [
        {
          "output_type": "display_data",
          "data": {
            "text/plain": [
              "<Figure size 800x800 with 1 Axes>"
            ],
            "image/png": "[encoded data removed]"
          },
          "metadata": {}
        }
      ]
    }
  ]
}